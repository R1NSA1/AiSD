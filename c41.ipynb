{
 "cells": [
  {
   "cell_type": "markdown",
   "id": "6dc49e4d-a8ed-4456-952a-fd6ce01873ba",
   "metadata": {},
   "source": [
    "# Коллаб, №41 - 2 вариант "
   ]
  },
  {
   "cell_type": "markdown",
   "id": "86136974-4344-4c24-8b51-7ad3325c5387",
   "metadata": {},
   "source": [
    "а) Создать класс «Товар» с полями «Название», «Цена» и «Количество». Создать хеш-таблицу для хранения объектов класса «Товар» по ключу — артикулу товара."
   ]
  },
  {
   "cell_type": "code",
   "execution_count": 4,
   "id": "76902a8c-8b4b-444b-8d44-e464d70a9957",
   "metadata": {},
   "outputs": [
    {
     "name": "stdout",
     "output_type": "stream",
     "text": [
      "Товары в хеш-таблице:\n",
      "артикул_1 : Монитор - Цена: 200, Количество: 5\n",
      "артикул_2 : Клавиатура - Цена: 20, Количество: 10\n",
      "артикул_3 : Мышь - Цена: 15, Количество: 8\n"
     ]
    }
   ],
   "source": [
    "class Product:\n",
    "    def __init__(self, name, price, quantity):\n",
    "        self.name = name\n",
    "        self.price = price\n",
    "        self.quantity = quantity\n",
    "\n",
    "    def __str__(self):\n",
    "        return f\"{self.name} - Цена: {self.price}, Количество: {self.quantity}\"\n",
    "\n",
    "products = {}\n",
    "\n",
    "pr1 = Product(\"Монитор\", 200, 5)\n",
    "pr2 = Product(\"Клавиатура\", 20, 10)\n",
    "pr3 = Product(\"Мышь\", 15, 8)\n",
    "\n",
    "# Хеш-таблица для хранения объектов класса \"Товар\" по ключу - артикулу товара\n",
    "products['артикул_1'] = pr1\n",
    "products['артикул_2'] = pr2\n",
    "products['артикул_3'] = pr3\n",
    "\n",
    "print(\"Товары в хэш-таблице:\")\n",
    "for key, value in products.items():\n",
    "    print(key, \":\", value)\n"
   ]
  },
  {
   "cell_type": "markdown",
   "id": "db83e1e7-e6e7-4811-9447-077bdb6c5010",
   "metadata": {},
   "source": [
    "б) Написать функцию для разделения хеш-таблицы на две, где первая будет содержать элементы с четными ключами, а вторая — с нечетными."
   ]
  },
  {
   "cell_type": "code",
   "execution_count": 8,
   "id": "af249648-0f8f-488e-b1e0-b64e0594cd3c",
   "metadata": {},
   "outputs": [
    {
     "name": "stdout",
     "output_type": "stream",
     "text": [
      "Товары с четными ключами:\n",
      "артикул_1 : Товар1\n",
      "артикул_4 : Товар4\n",
      "\n",
      "Товары с нечетными ключами:\n",
      "артикул_2 : Товар2\n",
      "артикул_3 : Товар3\n"
     ]
    }
   ],
   "source": [
    "def split_hash_table(hashtab):\n",
    "    even = {}\n",
    "    odd = {}\n",
    "    \n",
    "    for key, value in hashtab.items():\n",
    "        if hash(key) % 2 == 0:\n",
    "            even[key] = value\n",
    "        else:\n",
    "            odd[key] = value\n",
    "    \n",
    "    return even, odd\n",
    "\n",
    "# Пример использования\n",
    "even_and_odd_key_products = {\n",
    "    'артикул_1': \"Товар1\",\n",
    "    'артикул_2': \"Товар2\",\n",
    "    'артикул_3': \"Товар3\",\n",
    "    'артикул_4': \"Товар4\"\n",
    "}\n",
    "\n",
    "even_products, odd_products = split_hash_table(even_and_odd_key_products)\n",
    "\n",
    "print(\"Товары с четными ключами:\")\n",
    "for key, value in even_products.items():\n",
    "    print(key, \":\", value)\n",
    "\n",
    "print(\"\\nТовары с нечетными ключами:\")\n",
    "for key, value in odd_products.items():\n",
    "    print(key, \":\", value)\n"
   ]
  },
  {
   "cell_type": "markdown",
   "id": "6dc0380c-0379-4feb-b40f-ccfa3fcd270d",
   "metadata": {},
   "source": [
    "в) Реализуйте хеш-таблицу для хранения информации о документах в архиве. Ключом является номер документа, значение — объект, содержащий информацию о документе (название, дата создания, автор и т.д.). Используйте метод разрешения коллизий методом цепочек и реализуйте возможность удаления элементов из таблицы."
   ]
  },
  {
   "cell_type": "code",
   "execution_count": 7,
   "id": "cc2abc17-46ff-4af4-a666-8fd191312077",
   "metadata": {},
   "outputs": [
    {
     "name": "stdout",
     "output_type": "stream",
     "text": [
      "Документ с ключом '001': Document1\n",
      "Документ с ключом '002': None\n"
     ]
    }
   ],
   "source": [
    "class DocumentInfo:\n",
    "    def __init__(self, name, creation_date, author):\n",
    "        self.name = name\n",
    "        self.creation_date = creation_date\n",
    "        self.author = author\n",
    "\n",
    "class HashArchive:\n",
    "    def __init__(self, capacity=10):\n",
    "        self.capacity = capacity\n",
    "        self.buckets = [[] for _ in range(capacity)]\n",
    "\n",
    "    def hash_function(self, key):\n",
    "        return hash(key) % self.capacity\n",
    "\n",
    "    def add_document(self, key, document_info):\n",
    "        index = self.hash_function(key)\n",
    "        for item in self.buckets[index]:\n",
    "            if item[0] == key:\n",
    "                item[1] = document_info\n",
    "                return\n",
    "        self.buckets[index].append([key, document_info])\n",
    "\n",
    "    def get_document(self, key):\n",
    "        index = self.hash_function(key)\n",
    "        for item in self.buckets[index]:\n",
    "            if item[0] == key:\n",
    "                return item[1]\n",
    "        return None\n",
    "\n",
    "    def remove_document(self, key):\n",
    "        index = self.hash_function(key)\n",
    "        for i, item in enumerate(self.buckets[index]):\n",
    "            if item[0] == key:\n",
    "                del self.buckets[index][i]\n",
    "                return\n",
    "        print(\"Документ с ключом '{}' не найден.\".format(key))\n",
    "\n",
    "# Пример использования\n",
    "archive = HashArchive()\n",
    "\n",
    "doc1 = DocumentInfo(\"Document1\", \"2022-01-01\", \"John Doe\")\n",
    "doc2 = DocumentInfo(\"Document2\", \"2022-02-01\", \"Jane Smith\")\n",
    "\n",
    "archive.add_document(\"001\", doc1)\n",
    "archive.add_document(\"002\", doc2)\n",
    "\n",
    "print(\"Документ с ключом '001':\", archive.get_document(\"001\").name)\n",
    "archive.remove_document(\"002\")\n",
    "print(\"Документ с ключом '002':\", archive.get_document(\"002\"))\n"
   ]
  }
 ],
 "metadata": {
  "kernelspec": {
   "display_name": "Python 3 (ipykernel)",
   "language": "python",
   "name": "python3"
  },
  "language_info": {
   "codemirror_mode": {
    "name": "ipython",
    "version": 3
   },
   "file_extension": ".py",
   "mimetype": "text/x-python",
   "name": "python",
   "nbconvert_exporter": "python",
   "pygments_lexer": "ipython3",
   "version": "3.11.5"
  }
 },
 "nbformat": 4,
 "nbformat_minor": 5
}
