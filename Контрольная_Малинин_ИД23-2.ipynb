{
 "cells": [
  {
   "cell_type": "markdown",
   "metadata": {},
   "source": [
    "### Контрольная работа № 1.\n",
    "### Вариант 1.\n",
    "#### Студент _Малинин Илья Андреевич_ группа _ИД23-2_"
   ]
  },
  {
   "cell_type": "markdown",
   "metadata": {},
   "source": [
    "1. Создайте класс Length (Длина), имеющий свойства\n",
    "\n",
    "• value (значение),\n",
    "\n",
    "• unit (единица измерения).\n",
    "\n",
    "При изменении единицы измерения значение должно соответственно меняться. Например, при переходе от сантиметров к метрам значение должно уменьшаться в 100 раз. Допустимые значения свойства unit: ‘см’, ‘м’, ‘км’. Организуйте эту проверку. Продемонстрируйте работу с классом."
   ]
  },
  {
   "cell_type": "code",
   "execution_count": 13,
   "metadata": {},
   "outputs": [
    {
     "name": "stdout",
     "output_type": "stream",
     "text": [
      "50 см\n",
      "0.5 м\n"
     ]
    }
   ],
   "source": [
    "# Решение 1.\n",
    "class Length:\n",
    "    def __init__(self, value, unit):\n",
    "        self.value = value\n",
    "        self.unit = unit\n",
    "\n",
    "    def to_meters(self):\n",
    "        if self.unit == 'см':\n",
    "            self.value /= 100\n",
    "            self.unit = 'м'\n",
    "        elif self.unit == 'км':\n",
    "            self.value *= 1000\n",
    "            self.unit = 'м'\n",
    "\n",
    "    def __str__(self):\n",
    "        return f\"{self.value} {self.unit}\"\n",
    "\n",
    "\n",
    "# Ввести в параметри Length значения, которые необходимо перевести\n",
    "length1 = Length(50, 'см')\n",
    "print(length1)\n",
    "\n",
    "length1.to_meters()\n",
    "print(length1)\n",
    "        "
   ]
  },
  {
   "cell_type": "markdown",
   "metadata": {},
   "source": [
    "2. Создайте класс Ведомость, имеющий\n",
    "атрибут класса:\n",
    "\n",
    "• список_дисциплин (значением является список с названиями дисциплин);\n",
    "\n",
    "свойства:\n",
    "\n",
    "• дисциплина (при задании значения проверять наличие дисциплины в атрибуте список_дисциплин),\n",
    "\n",
    "• группа;\n",
    "\n",
    "методы:\n",
    "\n",
    "• put – добавляет в ведомость информацию об оценке студента (фамилия, оценка – параметры метода). Для хранения данных внутри класса используйте словарь, в котором ключом является фамилия студента. Возможные оценки – «отлично», «хорошо», «удовл.», «неудовл.», «н/я»;\n",
    "\n",
    "• get – возвращает оценку, полученную студентом (фамилия студента – параметр метода);\n",
    "\n",
    "• change – изменяет оценку, полученную студентом (фамилия студента и новая оценка – параметры метода);\n",
    "\n",
    "• del – удаляет информацию о студенте из ведомости (фамилия студента – параметр метода);\n",
    "\n",
    "• result – возвращает кортеж из 5 чисел (количество каждого вида оценок в ведомости);\n",
    "\n",
    "• __init__ – конструктор;\n",
    "\n",
    "• __str__ – возвращает строку, содержащую заголовки (название экзамена, группа) и результаты экзамена в виде таблицы;\n",
    "\n",
    "• count – возвращает количество студентов в ведомости;\n",
    "\n",
    "• names – возвращает список фамилий, имеющихся в ведомости.\n",
    "\n",
    "Продемонстрируйте работу с классом. \n"
   ]
  },
  {
   "cell_type": "code",
   "execution_count": 29,
   "metadata": {},
   "outputs": [
    {
     "name": "stdout",
     "output_type": "stream",
     "text": [
      "Дисциплина: Математика\n",
      "Группа: Группа 1\n",
      "\n",
      "Фамилия:\t\tОценка:\n",
      "Иванов\t\t5\n",
      "Петров\t\t4\n",
      "Сидоров\t\t3\n",
      "Козлов\t\t2\n",
      "\n",
      "Оценка студента Петров: 4\n",
      "Измененная оценка студента Сидоров: 5\n",
      "Количество студентов в ведомости: 4\n",
      "Список студентов в ведомости: ['Иванов', 'Петров', 'Сидоров', 'Козлов']\n"
     ]
    }
   ],
   "source": [
    "# Решение 2.\n",
    "class Statement:\n",
    "    disciplist = ['Математика', 'Биология', 'Информатика']\n",
    "    def __init__(self, discipline_name, group_name):\n",
    "        self.discipline_name = discipline_name\n",
    "        self.group_name = group_name\n",
    "        self.statement_view = {}\n",
    "\n",
    "    def put(self, surname, mark):\n",
    "        if mark not in ['5', '4', '3', '2', 'н/я']:\n",
    "            print(\"Неподдерживаемый формат оценки.\")\n",
    "        self.statement_view[surname] = mark\n",
    "\n",
    "    def get(self, surname):\n",
    "        return self.statement_view.get(surname, \"Студент c указанной фамилией не найден.\")\n",
    "        \n",
    "    def change(self, surname, new_mark):\n",
    "        if new_mark not in ['5', '4', '3', '2', 'н/я']:\n",
    "            print(\"Неподдерживаемый формат оценки.\")\n",
    "        if surname in self.statement_view:\n",
    "            self.statement_view[surname] = new_mark\n",
    "            \n",
    "    def __del__(self):\n",
    "        del(self.statement_view)\n",
    "        \n",
    "    def result(self):\n",
    "        perfect = [self.statement_view.values()].count('5')\n",
    "        good = [self.statement_view.values()].count('4')\n",
    "        okay = [self.statement_view.values()].count('3')\n",
    "        bad = [self.statement_view.values()].count('2')\n",
    "        notcame = [self.statement_view.values()].count('н/я')\n",
    "        return (perfect, good, okay, bad, notcame)\n",
    "            \n",
    "    def count(self):\n",
    "        return len(self.statement_view)\n",
    "        \n",
    "    def names(self):\n",
    "        return list(self.statement_view.keys())\n",
    "        \n",
    "    def __str__(self):\n",
    "        result_str = f'Дисциплина: {self.discipline_name}\\nГруппа: {self.group_name}\\n\\n'\n",
    "        result_str += \"Фамилия:\\t\\tОценка:\\n\"\n",
    "        for surname, mark in self.statement_view.items():\n",
    "            result_str += f'{surname}\\t\\t{mark}\\n'\n",
    "        return result_str\n",
    "\n",
    "# Задаем параметры\n",
    "statement_view = Statement('Математика', 'Группа 1')\n",
    "statement_view.put('Иванов', '5')\n",
    "statement_view.put('Петров', '4')\n",
    "statement_view.put('Сидоров', '3')\n",
    "statement_view.put('Козлов', '2')\n",
    "\n",
    "print(statement_view)\n",
    "print('Оценка студента Петров:', statement_view.get('Петров'))\n",
    "statement_view.change('Сидоров', '5')\n",
    "print('Измененная оценка студента Сидоров:', statement_view.get('Сидоров'))\n",
    "print('Количество студентов в ведомости:', statement_view.count())\n",
    "print('Список студентов в ведомости:', statement_view.names())"
   ]
  },
  {
   "cell_type": "markdown",
   "metadata": {},
   "source": [
    "3. Создайте класс Заказ(Order), у которого есть свойства код_товара(code), цена(price), количество(count) и методы __init__ и __str__.\n",
    "\n",
    "Создайте 2 класса-потомка: Опт(Opt) и Розница(Retail).\n",
    "В этих классах создайте методы __init__, __str__.и сумма_заказа(summa), позволяющий узнать стоимость заказа.\n",
    "Для опта стоимость единицы товара составляет 95% от цены, а при покупке более 500 штук – 90% цены.\n",
    "В розницу стоимость единицы товара составляет 100% цены. Стоимость заказа равна произведению цены на количество. \n",
    "\n",
    "Продемонстрируйте работу с классами, создав необходимые объекты и обратившись к их свойствам и методам\n"
   ]
  },
  {
   "cell_type": "code",
   "execution_count": 38,
   "metadata": {},
   "outputs": [
    {
     "name": "stdout",
     "output_type": "stream",
     "text": [
      "ОПТОВЫЙ ЗАКАЗ. Код товара: 1022111257, цена товара: 102.6, количество товара: 652\n",
      "Стоимость оптового заказа: 60205.68\n",
      "РОЗНИЧНЫЙ ЗАКАЗ. Код товара: 1285892001, цена товара: 50.5, количество товара: 153\n",
      "Стоимость розничного заказа: 7726.5\n"
     ]
    }
   ],
   "source": [
    "# Решение 3.\n",
    "class Order:\n",
    "    def __init__(self, code, price, count):\n",
    "        self.code = code\n",
    "        self.price = price\n",
    "        self.count = count\n",
    "    \n",
    "    def __str__(self):\n",
    "        return f'Код товара: {self.code}, цена товара: {self.price}, количество товара: {self.count}'\n",
    "\n",
    "\n",
    "class Opt(Order):\n",
    "    def __init__(self, code, price, count):\n",
    "        super().__init__(code, price, count)\n",
    "\n",
    "    def summa(self):\n",
    "        total_price = self.price * self.count\n",
    "        if self.count > 500:\n",
    "            total_price *= 0.9\n",
    "        else:\n",
    "            total_price *= 0.95\n",
    "        return total_price\n",
    "\n",
    "    def __str__(self):\n",
    "        return f'ОПТОВЫЙ ЗАКАЗ. {super().__str__()}'\n",
    "\n",
    "\n",
    "class Retail(Order):\n",
    "    def __init__(self, code, price, count):\n",
    "        super().__init__(code, price, count)\n",
    "\n",
    "    def summa(self):\n",
    "        total_price = self.price * self.count\n",
    "        return total_price\n",
    "\n",
    "    def __str__(self):\n",
    "        return f\"РОЗНИЧНЫЙ ЗАКАЗ. {super().__str__()}\"\n",
    "\n",
    "\n",
    "# Пример использования\n",
    "order1 = Opt('1022111257', 102.6, 652)\n",
    "print(order1)\n",
    "print(f\"Стоимость оптового заказа: {order1.summa()}\")\n",
    "\n",
    "order2 = Retail('1285892001', 50.5, 153)\n",
    "print(order2)\n",
    "print(f\"Стоимость розничного заказа: {order2.summa()}\")"
   ]
  },
  {
   "cell_type": "markdown",
   "metadata": {},
   "source": [
    "4. Написать функцию my_func_1(lst), которая переворачивает список вложенных списков с произвольным уровнем вложенности.\n",
    "Любой элемент, не являющийся списком, не должен быть изменен.\n",
    "\n",
    "Примеры, демонстрирующие ожидаемое поведение функции:\n",
    "\n",
    "assert my_func_1(42) == 42\n",
    "\n",
    "assert my_func_1([]) == []\n",
    "\n",
    "assert my_func_1([1, 2]) == [2, 1]\n",
    "\n",
    "assert my_func_1((1, 2)) == (1, 2)\n",
    "\n",
    "assert my_func_1([[1, 2], [3, [4, 5]], 6]) == [6, [[5, 4], 3], [2, 1]]\n",
    "\n",
    "assert my_func_1(['123', '456', '789', {10: [11, 12], 13: 14}, (15, 16)]) == [(15, 16), {10: [11, 12], 13: 14}, '789', '456', '123']\n",
    "\n",
    "assert my_func_1([[[[[1, 2]]]]]) == [[[[[2, 1]]]]]"
   ]
  },
  {
   "cell_type": "code",
   "execution_count": 42,
   "metadata": {},
   "outputs": [],
   "source": [
    "# Решение 4.\n",
    "def my_func_1(lst):\n",
    "    if not isinstance(lst , list):\n",
    "        return lst\n",
    "    return [my_func_1(item) for item in lst[::-1]]\n",
    "\n",
    "# Если все корректно работает, при запуске ничего не выведется\n",
    "assert my_func_1(42) == 42\n",
    "assert my_func_1([]) == []\n",
    "assert my_func_1([1, 2]) == [2, 1]\n",
    "assert my_func_1((1, 2)) == (1, 2)\n",
    "assert my_func_1([[1, 2], [3, [4, 5]], 6]) == [6, [[5, 4], 3], [2, 1]]\n",
    "assert my_func_1(['123', '456', '789', {10: [11, 12], 13: 14}, (15, 16)]) == [(15, 16), {10: [11, 12], 13: 14}, '789', '456', '123']\n",
    "assert my_func_1([[[[[1, 2]]]]]) == [[[[[2, 1]]]]]\n",
    "    "
   ]
  },
  {
   "cell_type": "markdown",
   "metadata": {},
   "source": [
    "5.При помощи механизма map/filter/reduce возвести в квадрат числа от 1 до 100, и рассчитать их сумму, не включая в сумму числа, кратные 9. Написать реализацию в одну строку."
   ]
  },
  {
   "cell_type": "code",
   "execution_count": 46,
   "metadata": {},
   "outputs": [
    {
     "name": "stdout",
     "output_type": "stream",
     "text": [
      "225589\n"
     ]
    }
   ],
   "source": [
    "# Решение 5.\n",
    "print(reduce(lambda x, y: x + y, filter(lambda x: x % 9 != 0, map(lambda x: x**2, range(1, 101)))))\n",
    "    "
   ]
  },
  {
   "cell_type": "markdown",
   "metadata": {},
   "source": [
    "6.Написать декоратор с параметром my_decorator(n). Декоратор превращает функцию, возвращающую поддерживающий итерации объект (далее \"последовательность\"), в функцию-генератор. Если декорируемая функция возвращает что-то другое, а не последовательность, то декоратор должен вернуть этот результат вызова функции без изменений.\n",
    "\n",
    "Проверку объекта можно организовать при помощи условия import collections if isinstance(item, collections.Iterable)\n",
    "\n",
    "Параметром декоратора может быть целое положительное число n, тогда получившаяся функция-декоратор должна генерировать по одному значению из последовательности, повторенной n раз. Также параметр может принимать строковое значение 'inf', тогда функция-декоратор генерирует по одному значению из последовательности, повторенной бесконечное число раз (зацикливает генерирование результата).\n",
    "\n",
    "Подсказка: сначала реализовать случай со значением аргумента 'inf', а затем модифицировать для целочисленного значения аргумента."
   ]
  },
  {
   "cell_type": "code",
   "execution_count": null,
   "metadata": {},
   "outputs": [],
   "source": [
    "# Решение 6.\n",
    "(НЕ ДЕЛАЕМ)"
   ]
  }
 ],
 "metadata": {
  "kernelspec": {
   "display_name": "Python 3 (ipykernel)",
   "language": "python",
   "name": "python3"
  },
  "language_info": {
   "codemirror_mode": {
    "name": "ipython",
    "version": 3
   },
   "file_extension": ".py",
   "mimetype": "text/x-python",
   "name": "python",
   "nbconvert_exporter": "python",
   "pygments_lexer": "ipython3",
   "version": "3.11.5"
  }
 },
 "nbformat": 4,
 "nbformat_minor": 4
}
