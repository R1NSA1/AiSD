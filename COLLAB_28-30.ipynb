{
 "cells": [
  {
   "cell_type": "markdown",
   "id": "cf63fac7-bbe9-4a74-9c17-1c9c5be3acab",
   "metadata": {},
   "source": [
    "# №28"
   ]
  },
  {
   "cell_type": "markdown",
   "id": "f80df6fa-a0e4-444f-ac69-66150dbfa319",
   "metadata": {},
   "source": [
    "а) Напишите лямбда-функцию, которая принимает один аргумент, и этот аргумент должен быть умножен на неизвестное заданное число.\n",
    "\n",
    "б) Найти числа, делящиеся на девятнадцать или тринадцать, из списка чисел, используя лямбда-функцию.\n",
    "\n",
    "в) Напишите программу для подсчёта вещественных чисел в заданном смешанном списке с помощью лямбда-функции."
   ]
  },
  {
   "cell_type": "code",
   "execution_count": 15,
   "id": "3f6ec6fc-6ded-47d5-bff8-d73a70a30b89",
   "metadata": {},
   "outputs": [
    {
     "name": "stdout",
     "output_type": "stream",
     "text": [
      "50\n"
     ]
    }
   ],
   "source": [
    "# а)\n",
    "num = 5\n",
    "\n",
    "l = lambda x: x * num\n",
    "print(l(10))\n"
   ]
  },
  {
   "cell_type": "code",
   "execution_count": 17,
   "id": "564d3785-8292-4deb-a9c2-f0529fef4261",
   "metadata": {},
   "outputs": [
    {
     "name": "stdout",
     "output_type": "stream",
     "text": [
      "[13, 19]\n"
     ]
    }
   ],
   "source": [
    "# б)\n",
    "num_list = [13, 19, 1]\n",
    "\n",
    "result = list(filter(lambda x: x % 19 == 0 or x % 13 == 0, num_list))\n",
    "print(result)\n"
   ]
  },
  {
   "cell_type": "code",
   "execution_count": 22,
   "id": "62ce7e31-1e5e-4037-b7c7-02f1421f9ef2",
   "metadata": {},
   "outputs": [
    {
     "name": "stdout",
     "output_type": "stream",
     "text": [
      "3\n"
     ]
    }
   ],
   "source": [
    "# в)\n",
    "num_list = [1, 2.5, 3, 4.5, 5, 6.5]\n",
    "\n",
    "count_floats = len(list(filter(lambda x: isinstance(x, float), num_list)))\n",
    "print(count_floats)\n"
   ]
  },
  {
   "cell_type": "markdown",
   "id": "555a7389-0c69-4f76-b19c-72038235a1eb",
   "metadata": {},
   "source": [
    "# №29"
   ]
  },
  {
   "cell_type": "markdown",
   "id": "22d46414-56ef-47f4-a67b-a46bd4e1e5b6",
   "metadata": {},
   "source": [
    "а) Создайте списки, содержащие определенные элементы из кортежа, и преобразуйте строковые значения в целое число. Пример: [('Alberto Franco', '15/05/2002', '35kg'), ('Gino Mcneill', '17/05/2002', '37kg'), ('Ryan Parkes', '16/02/1999', '39kg'), ('Eesha Hinton', '25/09/1998', '35kg')] → ['Alberto Franco', 'Gino Mcneill', 'Ryan Parkes', 'Eesha Hinton']; ['15/05/2002', '17/05/2002', '16/02/1999', '25/09/1998']; [35, 37, 39, 35].\n",
    "\n",
    "б) Сгенерировать список целых чисел. С помощью функции filter() выбрать из списка все положительные числа и упорядочить их по возрастанию. Используя функцию reduce(), найти их сумму."
   ]
  },
  {
   "cell_type": "code",
   "execution_count": 23,
   "id": "5ae3f277-eb16-4a81-8854-0d2e0aab2e2f",
   "metadata": {},
   "outputs": [
    {
     "name": "stdout",
     "output_type": "stream",
     "text": [
      "['Alberto Franco', 'Gino Mcneill', 'Ryan Parkes', 'Eesha Hinton']\n",
      "['15/05/2002', '17/05/2002', '16/02/1999', '25/09/1998']\n",
      "[35, 37, 39, 35]\n"
     ]
    }
   ],
   "source": [
    "# а)\n",
    "data = [('Alberto Franco', '15/05/2002', '35kg'), \n",
    "        ('Gino Mcneill', '17/05/2002', '37kg'), \n",
    "        ('Ryan Parkes', '16/02/1999', '39kg'), \n",
    "        ('Eesha Hinton', '25/09/1998', '35kg')]\n",
    "\n",
    "names = [i[0] for i in data]\n",
    "dates = [i[1] for i in data]\n",
    "weights = [int(i[2][:-2]) for i in data]\n",
    "print(names)\n",
    "print(dates)\n",
    "print(weights)\n"
   ]
  },
  {
   "cell_type": "code",
   "execution_count": 37,
   "id": "c2619826-98da-4e4e-ac00-105a32548ddc",
   "metadata": {},
   "outputs": [
    {
     "name": "stdout",
     "output_type": "stream",
     "text": [
      "[3, 6, 7, 9]\n",
      "25\n"
     ]
    }
   ],
   "source": [
    "# б)\n",
    "num = [7, -2, 3, -1, -5, 9, -4, 6]\n",
    "\n",
    "positive_num = sorted(list(filter(lambda x: x > 0, numbers)))\n",
    "total_num = reduce(lambda x, y: x + y, positive_num)\n",
    "print(positive_num)\n",
    "print(total_num)\n"
   ]
  },
  {
   "cell_type": "markdown",
   "id": "ffdee757-98c5-4074-8e6c-94d379cfd2d3",
   "metadata": {},
   "source": [
    "# №30"
   ]
  },
  {
   "cell_type": "markdown",
   "id": "0af50cd8-7e80-4853-ac2a-e6f5cd4f97fe",
   "metadata": {},
   "source": [
    "а) Создайте декоратор, который будет выводить на экран результат выполнения функции.\n",
    "\n",
    "б) Создайте декоратор, который будет принимать аргументы и передавать их в функцию в качестве позиционных параметров и ключевых параметров с заданными значениями по умолчанию."
   ]
  },
  {
   "cell_type": "code",
   "execution_count": 85,
   "id": "6412dd01-7da4-4fbf-b009-aa30e43eb4ab",
   "metadata": {},
   "outputs": [
    {
     "name": "stdout",
     "output_type": "stream",
     "text": [
      "Результат: 15\n"
     ]
    },
    {
     "data": {
      "text/plain": [
       "15"
      ]
     },
     "execution_count": 85,
     "metadata": {},
     "output_type": "execute_result"
    }
   ],
   "source": [
    "# а)\n",
    "def print_result(f):\n",
    "    def wrapper(*args, **kwargs):\n",
    "        result = f(*args, **kwargs)\n",
    "        print(f'Результат: {result}')\n",
    "        return result\n",
    "    return wrapper\n",
    "\n",
    "@print_result\n",
    "def multiply1(a, b):\n",
    "    return a * b\n",
    "\n",
    "multiply1(5, 3)"
   ]
  },
  {
   "cell_type": "code",
   "execution_count": 89,
   "id": "0e4bb349-c86b-48d2-a71a-c6960f451498",
   "metadata": {},
   "outputs": [
    {
     "name": "stdout",
     "output_type": "stream",
     "text": [
      "Аргументы декоратора: 10, 20\n"
     ]
    },
    {
     "data": {
      "text/plain": [
       "15"
      ]
     },
     "execution_count": 89,
     "metadata": {},
     "output_type": "execute_result"
    }
   ],
   "source": [
    "# б)\n",
    "def decorator_with_args(arg1, arg2):\n",
    "    def decorator(f):\n",
    "        def wrapper(*args, **kwargs):\n",
    "            print(f'Аргументы декоратора: {arg1}, {arg2}')\n",
    "            result = f(*args, **kwargs)\n",
    "            return result\n",
    "        return wrapper\n",
    "    return decorator\n",
    "\n",
    "@decorator_with_args(10, 20)\n",
    "def multiply2(a, b):\n",
    "    return a * b\n",
    "\n",
    "multiply2(5, 3)\n"
   ]
  },
  {
   "cell_type": "code",
   "execution_count": null,
   "id": "de87c8ff-f05f-4569-a333-190a2d57b4cf",
   "metadata": {},
   "outputs": [],
   "source": []
  }
 ],
 "metadata": {
  "kernelspec": {
   "display_name": "Python 3 (ipykernel)",
   "language": "python",
   "name": "python3"
  },
  "language_info": {
   "codemirror_mode": {
    "name": "ipython",
    "version": 3
   },
   "file_extension": ".py",
   "mimetype": "text/x-python",
   "name": "python",
   "nbconvert_exporter": "python",
   "pygments_lexer": "ipython3",
   "version": "3.11.5"
  }
 },
 "nbformat": 4,
 "nbformat_minor": 5
}
